{
 "cells": [
  {
   "cell_type": "code",
   "execution_count": 3,
   "id": "1ead0d45-370f-4f2f-b9d2-6d06be96a8e0",
   "metadata": {},
   "outputs": [
    {
     "name": "stderr",
     "output_type": "stream",
     "text": [
      "[nltk_data] Downloading package stopwords to\n",
      "[nltk_data]     C:\\Users\\mythr\\AppData\\Roaming\\nltk_data...\n",
      "[nltk_data]   Package stopwords is already up-to-date!\n"
     ]
    }
   ],
   "source": [
    "import pandas as pd\n",
    "from sklearn.model_selection import train_test_split\n",
    "from sklearn.feature_extraction.text import TfidfVectorizer\n",
    "from sklearn.naive_bayes import MultinomialNB\n",
    "from sklearn.metrics import classification_report\n",
    "import nltk\n",
    "from nltk.corpus import stopwords\n",
    "nltk.download('stopwords')\n",
    "stop_words = set(stopwords.words('english'))"
   ]
  },
  {
   "cell_type": "code",
   "execution_count": 17,
   "id": "ff14f10b-37a9-440c-9adc-114576e35d54",
   "metadata": {},
   "outputs": [
    {
     "name": "stdout",
     "output_type": "stream",
     "text": [
      "                                 review sentiment\n",
      "0       Great product, really loved it!  Positive\n",
      "1  Totally awful, will never buy again.  Negative\n",
      "2        Absolutely amazing experience!  Positive\n",
      "3       Terrible, I am so disappointed.  Negative\n",
      "4   Worth every penny, fantastic value!  Positive\n"
     ]
    }
   ],
   "source": [
    "data = pd.read_csv(r'C:\\Users\\mythr\\Downloads\\sentiment_data.csv')\n",
    "print(data.head()) "
   ]
  },
  {
   "cell_type": "code",
   "execution_count": 49,
   "id": "89b81f07-aa68-4bc3-9381-994b86e3bb4c",
   "metadata": {},
   "outputs": [],
   "source": [
    "\n",
    "def clean_text(text):\n",
    "    text = text.lower()  # Convert text to lowercase\n",
    "    text = ''.join([char if char.isalnum() or char.isspace() else ' ' for char in text])  # Remove special characters\n",
    "    text = ' '.join([word for word in text.split() if word not in stop_words])  # Remove stopwords\n",
    "    return text\n",
    "data['cleaned_review'] = data['review'].apply(clean_text)"
   ]
  },
  {
   "cell_type": "code",
   "execution_count": 51,
   "id": "ed68fa35-b492-43c8-b2b8-21780f081eca",
   "metadata": {},
   "outputs": [
    {
     "name": "stdout",
     "output_type": "stream",
     "text": [
      "              precision    recall  f1-score   support\n",
      "\n",
      "    Negative       1.00      1.00      1.00        17\n",
      "    Positive       1.00      1.00      1.00        23\n",
      "\n",
      "    accuracy                           1.00        40\n",
      "   macro avg       1.00      1.00      1.00        40\n",
      "weighted avg       1.00      1.00      1.00        40\n",
      "\n"
     ]
    }
   ],
   "source": [
    "X_train, X_test, y_train, y_test = train_test_split(data['cleaned_review'], data['sentiment'], test_size=0.2)\n",
    "\n",
    "# Step 4: Vectorize the text using TF-IDF\n",
    "vectorizer = TfidfVectorizer(max_features=1000)  # Limit to top 1000 words\n",
    "X_train_tfidf = vectorizer.fit_transform(X_train)\n",
    "X_test_tfidf = vectorizer.transform(X_test)\n",
    "\n",
    "# Step 5: Train the Naive Bayes model\n",
    "model = MultinomialNB()\n",
    "model.fit(X_train_tfidf, y_train)\n",
    "\n",
    "# Step 6: Make predictions on the test set\n",
    "y_pred = model.predict(X_test_tfidf)\n",
    "\n",
    "# Step 7: Print the classification report (shows precision, recall, F1-score)\n",
    "print(classification_report(y_test, y_pred))"
   ]
  },
  {
   "cell_type": "code",
   "execution_count": null,
   "id": "cdc280ea-e990-4263-a83d-15dd0fe751fa",
   "metadata": {},
   "outputs": [],
   "source": []
  }
 ],
 "metadata": {
  "kernelspec": {
   "display_name": "Python [conda env:base] *",
   "language": "python",
   "name": "conda-base-py"
  },
  "language_info": {
   "codemirror_mode": {
    "name": "ipython",
    "version": 3
   },
   "file_extension": ".py",
   "mimetype": "text/x-python",
   "name": "python",
   "nbconvert_exporter": "python",
   "pygments_lexer": "ipython3",
   "version": "3.12.4"
  }
 },
 "nbformat": 4,
 "nbformat_minor": 5
}
